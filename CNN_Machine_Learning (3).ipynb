{
  "nbformat": 4,
  "nbformat_minor": 0,
  "metadata": {
    "colab": {
      "name": "CNN_Machine_Learning.ipynb",
      "provenance": [],
      "collapsed_sections": []
    },
    "kernelspec": {
      "name": "python3",
      "display_name": "Python 3"
    },
    "language_info": {
      "name": "python"
    }
  },
  "cells": [
    {
      "cell_type": "code",
      "metadata": {
        "id": "linXi-iHOvJ7"
      },
      "source": [
        "import os\n",
        "import random\n",
        "import cv2\n",
        "import numpy as np\n",
        "import tensorflow as tf\n",
        "import glob\n",
        "import matplotlib.pyplot as plt\n",
        "from sklearn.model_selection import train_test_split as split\n",
        "from keras.optimizers import Adam\n",
        "from keras.preprocessing.image import ImageDataGenerator"
      ],
      "execution_count": 2,
      "outputs": []
    },
    {
      "cell_type": "code",
      "metadata": {
        "colab": {
          "base_uri": "https://localhost:8080/"
        },
        "id": "s1Quuh6u50SN",
        "outputId": "c58e38f7-c066-4fb1-97e2-a1735bacb16e"
      },
      "source": [
        "from google.colab import drive\n",
        "drive.mount('/content/drive')"
      ],
      "execution_count": 5,
      "outputs": [
        {
          "output_type": "stream",
          "text": [
            "Mounted at /content/drive\n"
          ],
          "name": "stdout"
        }
      ]
    },
    {
      "cell_type": "code",
      "metadata": {
        "id": "2uhjKsCnO8DD"
      },
      "source": [
        "data = 'flowers'\n",
        "\n",
        "train_dt = os.path.join(data, '/content/drive/MyDrive/flowers_dataset_training')\n",
        "test_dt = os.path.join(data, '/content/drive/MyDrive/flowers_dataset_testing')"
      ],
      "execution_count": 6,
      "outputs": []
    },
    {
      "cell_type": "code",
      "metadata": {
        "colab": {
          "base_uri": "https://localhost:8080/"
        },
        "id": "iq9Zy-0iPDWV",
        "outputId": "5d4dee80-920f-4a28-e610-c68f01dd12ac"
      },
      "source": [
        "train_data = ImageDataGenerator(\n",
        "      rescale=1./255,\n",
        "      rotation_range=40,\n",
        "      width_shift_range=0.2,\n",
        "      height_shift_range=0.2,\n",
        "      shear_range=0.2,\n",
        "      zoom_range=0.2,\n",
        "      horizontal_flip=True,\n",
        "      fill_mode='nearest')\n",
        "\n",
        "train_generator = train_data.flow_from_directory(\n",
        "        train_dt,  # Source directory for training images\n",
        "        target_size=(320,240),  \n",
        "        batch_size=20,\n",
        "        color_mode=\"grayscale\",\n",
        "        class_mode='categorical')"
      ],
      "execution_count": 7,
      "outputs": [
        {
          "output_type": "stream",
          "text": [
            "Found 577 images belonging to 3 classes.\n"
          ],
          "name": "stdout"
        }
      ]
    },
    {
      "cell_type": "code",
      "metadata": {
        "colab": {
          "base_uri": "https://localhost:8080/"
        },
        "id": "b-d7voxfXeKl",
        "outputId": "556bf45d-b741-49b8-bdeb-533356105371"
      },
      "source": [
        "test_data = ImageDataGenerator(rescale=1./255)\n",
        "\n",
        "test_generator = test_data.flow_from_directory(\n",
        "        test_dt,\n",
        "        target_size=(320,240),\n",
        "        batch_size=20,\n",
        "        color_mode=\"grayscale\",\n",
        "        class_mode='categorical')"
      ],
      "execution_count": 8,
      "outputs": [
        {
          "output_type": "stream",
          "text": [
            "Found 60 images belonging to 3 classes.\n"
          ],
          "name": "stdout"
        }
      ]
    },
    {
      "cell_type": "code",
      "metadata": {
        "colab": {
          "base_uri": "https://localhost:8080/"
        },
        "id": "qO_fB6TMXgSA",
        "outputId": "2ad859f3-d631-4db7-b24b-334fc274ea95"
      },
      "source": [
        "model_1 = tf.keras.models.Sequential([\n",
        "    tf.keras.layers.Conv2D(32, (5,5), activation='relu', input_shape=(320,240,1)),\n",
        "    tf.keras.layers.MaxPooling2D(2,2),\n",
        "    tf.keras.layers.Conv2D(64, (5,5), activation='relu'),\n",
        "    tf.keras.layers.MaxPooling2D(2,2),\n",
        "    tf.keras.layers.Flatten(),\n",
        "    tf.keras.layers.Dense(256, activation='relu'),\n",
        "    tf.keras.layers.Dropout(0.3),\n",
        "    tf.keras.layers.Dense(3, activation='softmax')\n",
        "])\n",
        "model_1.summary()"
      ],
      "execution_count": 14,
      "outputs": [
        {
          "output_type": "stream",
          "text": [
            "Model: \"sequential\"\n",
            "_________________________________________________________________\n",
            "Layer (type)                 Output Shape              Param #   \n",
            "=================================================================\n",
            "conv2d (Conv2D)              (None, 316, 236, 32)      832       \n",
            "_________________________________________________________________\n",
            "max_pooling2d (MaxPooling2D) (None, 158, 118, 32)      0         \n",
            "_________________________________________________________________\n",
            "conv2d_1 (Conv2D)            (None, 154, 114, 64)      51264     \n",
            "_________________________________________________________________\n",
            "max_pooling2d_1 (MaxPooling2 (None, 77, 57, 64)        0         \n",
            "_________________________________________________________________\n",
            "flatten (Flatten)            (None, 280896)            0         \n",
            "_________________________________________________________________\n",
            "dense (Dense)                (None, 256)               71909632  \n",
            "_________________________________________________________________\n",
            "dropout (Dropout)            (None, 256)               0         \n",
            "_________________________________________________________________\n",
            "dense_1 (Dense)              (None, 3)                 771       \n",
            "=================================================================\n",
            "Total params: 71,962,499\n",
            "Trainable params: 71,962,499\n",
            "Non-trainable params: 0\n",
            "_________________________________________________________________\n"
          ],
          "name": "stdout"
        }
      ]
    },
    {
      "cell_type": "code",
      "metadata": {
        "colab": {
          "base_uri": "https://localhost:8080/"
        },
        "id": "HMS5CI9lXl3b",
        "outputId": "39949562-1ab3-4728-b1d9-f953d043af78"
      },
      "source": [
        "model_1.compile(optimizer=Adam(lr=0.12),\n",
        "              loss='categorical_crossentropy', \n",
        "              metrics=['accuracy'])"
      ],
      "execution_count": 15,
      "outputs": [
        {
          "output_type": "stream",
          "text": [
            "/usr/local/lib/python3.7/dist-packages/tensorflow/python/keras/optimizer_v2/optimizer_v2.py:375: UserWarning: The `lr` argument is deprecated, use `learning_rate` instead.\n",
            "  \"The `lr` argument is deprecated, use `learning_rate` instead.\")\n"
          ],
          "name": "stderr"
        }
      ]
    },
    {
      "cell_type": "code",
      "metadata": {
        "colab": {
          "base_uri": "https://localhost:8080/"
        },
        "id": "cXJ0uAnpXrZz",
        "outputId": "232ce03f-d973-48b2-dbd4-62e3febb5c2d"
      },
      "source": [
        "history = model_1.fit(\n",
        "    train_generator,\n",
        "    epochs=50,\n",
        "    verbose=1,\n",
        "    validation_data=test_generator,\n",
        ")"
      ],
      "execution_count": 16,
      "outputs": [
        {
          "output_type": "stream",
          "text": [
            "Epoch 1/50\n",
            "29/29 [==============================] - 168s 6s/step - loss: 98680.7734 - accuracy: 0.5667 - val_loss: 2.5013 - val_accuracy: 0.3333\n",
            "Epoch 2/50\n",
            "29/29 [==============================] - 121s 4s/step - loss: 0.9001 - accuracy: 0.6898 - val_loss: 1.7568 - val_accuracy: 0.3333\n",
            "Epoch 3/50\n",
            "29/29 [==============================] - 121s 4s/step - loss: 0.8422 - accuracy: 0.7175 - val_loss: 1.3982 - val_accuracy: 0.3333\n",
            "Epoch 4/50\n",
            "29/29 [==============================] - 121s 4s/step - loss: 0.8070 - accuracy: 0.7227 - val_loss: 1.3744 - val_accuracy: 0.3333\n",
            "Epoch 5/50\n",
            "29/29 [==============================] - 129s 4s/step - loss: 0.7889 - accuracy: 0.7227 - val_loss: 1.4330 - val_accuracy: 0.3333\n",
            "Epoch 6/50\n",
            "29/29 [==============================] - 122s 4s/step - loss: 0.7936 - accuracy: 0.7227 - val_loss: 1.3208 - val_accuracy: 0.3333\n",
            "Epoch 7/50\n",
            "29/29 [==============================] - 122s 4s/step - loss: 0.7893 - accuracy: 0.7227 - val_loss: 1.4585 - val_accuracy: 0.3333\n",
            "Epoch 8/50\n",
            "29/29 [==============================] - 122s 4s/step - loss: 0.7891 - accuracy: 0.7227 - val_loss: 1.5282 - val_accuracy: 0.3333\n",
            "Epoch 9/50\n",
            "29/29 [==============================] - 132s 5s/step - loss: 0.7916 - accuracy: 0.7227 - val_loss: 1.4456 - val_accuracy: 0.3333\n",
            "Epoch 10/50\n",
            "29/29 [==============================] - 123s 4s/step - loss: 0.7871 - accuracy: 0.7227 - val_loss: 1.4587 - val_accuracy: 0.3333\n",
            "Epoch 11/50\n",
            "29/29 [==============================] - 123s 4s/step - loss: 0.7853 - accuracy: 0.7227 - val_loss: 1.4024 - val_accuracy: 0.3333\n",
            "Epoch 12/50\n",
            "29/29 [==============================] - 123s 4s/step - loss: 0.7872 - accuracy: 0.7227 - val_loss: 1.4064 - val_accuracy: 0.3333\n",
            "Epoch 13/50\n",
            "29/29 [==============================] - 123s 4s/step - loss: 0.7868 - accuracy: 0.7227 - val_loss: 1.4423 - val_accuracy: 0.3333\n",
            "Epoch 14/50\n",
            "29/29 [==============================] - 123s 4s/step - loss: 0.7892 - accuracy: 0.7227 - val_loss: 1.4474 - val_accuracy: 0.3333\n",
            "Epoch 15/50\n",
            "29/29 [==============================] - 122s 4s/step - loss: 0.7880 - accuracy: 0.7227 - val_loss: 1.3745 - val_accuracy: 0.3333\n",
            "Epoch 16/50\n",
            "29/29 [==============================] - 123s 4s/step - loss: 0.7890 - accuracy: 0.7227 - val_loss: 1.4216 - val_accuracy: 0.3333\n",
            "Epoch 17/50\n",
            "29/29 [==============================] - 123s 4s/step - loss: 0.7905 - accuracy: 0.7227 - val_loss: 1.4454 - val_accuracy: 0.3333\n",
            "Epoch 18/50\n",
            "29/29 [==============================] - 122s 4s/step - loss: 0.7845 - accuracy: 0.7227 - val_loss: 1.3985 - val_accuracy: 0.3333\n",
            "Epoch 19/50\n",
            "29/29 [==============================] - 122s 4s/step - loss: 0.7982 - accuracy: 0.7227 - val_loss: 1.2906 - val_accuracy: 0.3333\n",
            "Epoch 20/50\n",
            "29/29 [==============================] - 123s 4s/step - loss: 0.7879 - accuracy: 0.7227 - val_loss: 1.4369 - val_accuracy: 0.3333\n",
            "Epoch 21/50\n",
            "29/29 [==============================] - 123s 4s/step - loss: 0.7887 - accuracy: 0.7227 - val_loss: 1.3491 - val_accuracy: 0.3333\n",
            "Epoch 22/50\n",
            "29/29 [==============================] - 123s 4s/step - loss: 0.7952 - accuracy: 0.7227 - val_loss: 1.3706 - val_accuracy: 0.3333\n",
            "Epoch 23/50\n",
            "29/29 [==============================] - 122s 4s/step - loss: 0.7920 - accuracy: 0.7227 - val_loss: 1.3031 - val_accuracy: 0.3333\n",
            "Epoch 24/50\n",
            "29/29 [==============================] - 123s 4s/step - loss: 0.7955 - accuracy: 0.7227 - val_loss: 1.4761 - val_accuracy: 0.3333\n",
            "Epoch 25/50\n",
            "29/29 [==============================] - 122s 4s/step - loss: 0.7960 - accuracy: 0.7227 - val_loss: 1.3994 - val_accuracy: 0.3333\n",
            "Epoch 26/50\n",
            "29/29 [==============================] - 122s 4s/step - loss: 0.7858 - accuracy: 0.7227 - val_loss: 1.4742 - val_accuracy: 0.3333\n",
            "Epoch 27/50\n",
            "29/29 [==============================] - 123s 4s/step - loss: 0.7934 - accuracy: 0.7227 - val_loss: 1.5951 - val_accuracy: 0.3333\n",
            "Epoch 28/50\n",
            "29/29 [==============================] - 122s 4s/step - loss: 0.7923 - accuracy: 0.7227 - val_loss: 1.3871 - val_accuracy: 0.3333\n",
            "Epoch 29/50\n",
            "29/29 [==============================] - 123s 4s/step - loss: 0.7842 - accuracy: 0.7244 - val_loss: 1.4089 - val_accuracy: 0.3333\n",
            "Epoch 30/50\n",
            "29/29 [==============================] - 123s 4s/step - loss: 0.7858 - accuracy: 0.7227 - val_loss: 1.3806 - val_accuracy: 0.3333\n",
            "Epoch 31/50\n",
            "29/29 [==============================] - 123s 4s/step - loss: 0.7892 - accuracy: 0.7227 - val_loss: 1.3930 - val_accuracy: 0.3333\n",
            "Epoch 32/50\n",
            "29/29 [==============================] - 123s 4s/step - loss: 0.7864 - accuracy: 0.7227 - val_loss: 1.4208 - val_accuracy: 0.3333\n",
            "Epoch 33/50\n",
            "29/29 [==============================] - 123s 4s/step - loss: 0.7919 - accuracy: 0.7227 - val_loss: 1.5831 - val_accuracy: 0.3333\n",
            "Epoch 34/50\n",
            "29/29 [==============================] - 123s 4s/step - loss: 0.7877 - accuracy: 0.7227 - val_loss: 1.4055 - val_accuracy: 0.3333\n",
            "Epoch 35/50\n",
            "29/29 [==============================] - 123s 4s/step - loss: 0.7884 - accuracy: 0.7227 - val_loss: 1.3890 - val_accuracy: 0.3333\n",
            "Epoch 36/50\n",
            "29/29 [==============================] - 123s 4s/step - loss: 0.7882 - accuracy: 0.7227 - val_loss: 1.3171 - val_accuracy: 0.3333\n",
            "Epoch 37/50\n",
            "29/29 [==============================] - 123s 4s/step - loss: 0.7904 - accuracy: 0.7227 - val_loss: 1.5437 - val_accuracy: 0.3333\n",
            "Epoch 38/50\n",
            "29/29 [==============================] - 123s 4s/step - loss: 0.7861 - accuracy: 0.7227 - val_loss: 1.3903 - val_accuracy: 0.3333\n",
            "Epoch 39/50\n",
            "29/29 [==============================] - 123s 4s/step - loss: 0.7888 - accuracy: 0.7227 - val_loss: 1.3843 - val_accuracy: 0.3333\n",
            "Epoch 40/50\n",
            "29/29 [==============================] - 122s 4s/step - loss: 5.6883 - accuracy: 0.7210 - val_loss: 1.3262 - val_accuracy: 0.3333\n",
            "Epoch 41/50\n",
            "29/29 [==============================] - 123s 4s/step - loss: 0.8217 - accuracy: 0.7227 - val_loss: 1.2659 - val_accuracy: 0.3333\n",
            "Epoch 42/50\n",
            "29/29 [==============================] - 122s 4s/step - loss: 0.7914 - accuracy: 0.7227 - val_loss: 1.4214 - val_accuracy: 0.3333\n",
            "Epoch 43/50\n",
            "29/29 [==============================] - 123s 4s/step - loss: 0.7860 - accuracy: 0.7227 - val_loss: 1.4495 - val_accuracy: 0.3333\n",
            "Epoch 44/50\n",
            "29/29 [==============================] - 123s 4s/step - loss: 0.7917 - accuracy: 0.7227 - val_loss: 1.4487 - val_accuracy: 0.3333\n",
            "Epoch 45/50\n",
            "29/29 [==============================] - 122s 4s/step - loss: 0.7896 - accuracy: 0.7227 - val_loss: 1.3676 - val_accuracy: 0.3333\n",
            "Epoch 46/50\n",
            "29/29 [==============================] - 122s 4s/step - loss: 0.7879 - accuracy: 0.7227 - val_loss: 1.4527 - val_accuracy: 0.3333\n",
            "Epoch 47/50\n",
            "29/29 [==============================] - 122s 4s/step - loss: 0.7887 - accuracy: 0.7227 - val_loss: 1.5084 - val_accuracy: 0.3333\n",
            "Epoch 48/50\n",
            "29/29 [==============================] - 123s 4s/step - loss: 0.7892 - accuracy: 0.7227 - val_loss: 1.5298 - val_accuracy: 0.3333\n",
            "Epoch 49/50\n",
            "29/29 [==============================] - 122s 4s/step - loss: 0.7948 - accuracy: 0.7227 - val_loss: 1.4447 - val_accuracy: 0.3333\n",
            "Epoch 50/50\n",
            "29/29 [==============================] - 122s 4s/step - loss: 0.7873 - accuracy: 0.7227 - val_loss: 1.3818 - val_accuracy: 0.3333\n"
          ],
          "name": "stdout"
        }
      ]
    },
    {
      "cell_type": "code",
      "metadata": {
        "colab": {
          "base_uri": "https://localhost:8080/"
        },
        "id": "SS9F9MDbjgL_",
        "outputId": "572ccc82-08b3-4622-acc3-2ef8fd7a4f4b"
      },
      "source": [
        "val_loss_1 = history.history['val_loss']\n",
        "val_acc_1 = history.history['val_accuracy']\n",
        "\n",
        "val_acc_1 = history.history['val_accuracy']\n",
        "\n",
        "accuracy_1 = history.history['accuracy']\n",
        "loss_1 = history.history['loss']\n",
        "\n",
        "print(val_acc_1[-1])\n",
        "print(accuracy_1[-1])"
      ],
      "execution_count": 21,
      "outputs": [
        {
          "output_type": "stream",
          "text": [
            "0.3333333432674408\n",
            "0.7227036356925964\n"
          ],
          "name": "stdout"
        }
      ]
    },
    {
      "cell_type": "code",
      "metadata": {
        "colab": {
          "base_uri": "https://localhost:8080/",
          "height": 562
        },
        "id": "DuO6FPsSjlHc",
        "outputId": "68926963-1e8c-42c2-b75c-aa899917ad7d"
      },
      "source": [
        "import matplotlib.pyplot as plt\n",
        "acc = accuracy_1\n",
        "val_accuracy = val_acc_1\n",
        "loss = loss_1\n",
        "val_loss = val_loss_1\n",
        "\n",
        "epochs = range(len(acc))\n",
        "\n",
        "plt.plot(epochs, acc, 'r', label='Training accuracy')\n",
        "plt.plot(epochs, val_accuracy, 'b', label='Validation accuracy')\n",
        "plt.title('Training and validation accuracy')\n",
        "\n",
        "plt.figure()\n",
        "\n",
        "plt.plot(epochs, loss, 'r', label='Training Loss')\n",
        "plt.plot(epochs, val_loss, 'b', label='Validation Loss')\n",
        "plt.title('Training and validation loss')\n",
        "plt.legend()"
      ],
      "execution_count": 22,
      "outputs": [
        {
          "output_type": "execute_result",
          "data": {
            "text/plain": [
              "<matplotlib.legend.Legend at 0x7f8efbfa5f50>"
            ]
          },
          "metadata": {
            "tags": []
          },
          "execution_count": 22
        },
        {
          "output_type": "display_data",
          "data": {
            "image/png": "[encoded data removed]",
            "text/plain": [
              "<Figure size 432x288 with 1 Axes>"
            ]
          },
          "metadata": {
            "tags": [],
            "needs_background": "light"
          }
        },
        {
          "output_type": "display_data",
          "data": {
            "image/png": "[encoded data removed]",
            "text/plain": [
              "<Figure size 432x288 with 1 Axes>"
            ]
          },
          "metadata": {
            "tags": [],
            "needs_background": "light"
          }
        }
      ]
    },
    {
      "cell_type": "code",
      "metadata": {
        "colab": {
          "base_uri": "https://localhost:8080/"
        },
        "id": "DmuiZ3ovjtz_",
        "outputId": "c1d4d957-4ffb-41f9-f6d8-07da2859b100"
      },
      "source": [
        "model_2 = tf.keras.models.Sequential([\n",
        "    tf.keras.layers.Conv2D(32, (5,5), activation='relu', input_shape=(320,240,1)),\n",
        "    tf.keras.layers.MaxPooling2D(2,2),\n",
        "    tf.keras.layers.Conv2D(64, (5,5), activation='relu'),\n",
        "    tf.keras.layers.MaxPooling2D(2,2),\n",
        "    tf.keras.layers.Flatten(),\n",
        "    tf.keras.layers.Dense(256, activation='relu'),\n",
        "    tf.keras.layers.Dropout(0.3),\n",
        "    tf.keras.layers.Dense(3, activation='softmax')\n",
        "])\n",
        "model_2.summary()"
      ],
      "execution_count": 9,
      "outputs": [
        {
          "output_type": "stream",
          "text": [
            "Model: \"sequential\"\n",
            "_________________________________________________________________\n",
            "Layer (type)                 Output Shape              Param #   \n",
            "=================================================================\n",
            "conv2d (Conv2D)              (None, 316, 236, 32)      832       \n",
            "_________________________________________________________________\n",
            "max_pooling2d (MaxPooling2D) (None, 158, 118, 32)      0         \n",
            "_________________________________________________________________\n",
            "conv2d_1 (Conv2D)            (None, 154, 114, 64)      51264     \n",
            "_________________________________________________________________\n",
            "max_pooling2d_1 (MaxPooling2 (None, 77, 57, 64)        0         \n",
            "_________________________________________________________________\n",
            "flatten (Flatten)            (None, 280896)            0         \n",
            "_________________________________________________________________\n",
            "dense (Dense)                (None, 256)               71909632  \n",
            "_________________________________________________________________\n",
            "dropout (Dropout)            (None, 256)               0         \n",
            "_________________________________________________________________\n",
            "dense_1 (Dense)              (None, 3)                 771       \n",
            "=================================================================\n",
            "Total params: 71,962,499\n",
            "Trainable params: 71,962,499\n",
            "Non-trainable params: 0\n",
            "_________________________________________________________________\n"
          ],
          "name": "stdout"
        }
      ]
    },
    {
      "cell_type": "code",
      "metadata": {
        "colab": {
          "base_uri": "https://localhost:8080/"
        },
        "id": "s9qnO8Z0j3gT",
        "outputId": "9a6c7afa-4dbd-4c3f-c910-b992757c10e9"
      },
      "source": [
        "model_2.compile(optimizer=Adam(lr=0.75),\n",
        "              loss='categorical_crossentropy',\n",
        "              metrics=['accuracy'])"
      ],
      "execution_count": 10,
      "outputs": [
        {
          "output_type": "stream",
          "text": [
            "/usr/local/lib/python3.7/dist-packages/tensorflow/python/keras/optimizer_v2/optimizer_v2.py:375: UserWarning: The `lr` argument is deprecated, use `learning_rate` instead.\n",
            "  \"The `lr` argument is deprecated, use `learning_rate` instead.\")\n"
          ],
          "name": "stderr"
        }
      ]
    },
    {
      "cell_type": "code",
      "metadata": {
        "colab": {
          "base_uri": "https://localhost:8080/"
        },
        "id": "PkdZ7i6_j4x1",
        "outputId": "2d2c3dc2-cdcf-44f1-f9f7-27f2ba2972de"
      },
      "source": [
        "history = model_2.fit(\n",
        "    train_generator,\n",
        "    epochs=50,\n",
        "    verbose=1,\n",
        "    validation_data=test_generator,\n",
        ")"
      ],
      "execution_count": 11,
      "outputs": [
        {
          "output_type": "stream",
          "text": [
            "Epoch 1/50\n",
            "29/29 [==============================] - 397s 14s/step - loss: 124488616.0000 - accuracy: 0.5719 - val_loss: 1.8536 - val_accuracy: 0.3333\n",
            "Epoch 2/50\n",
            "29/29 [==============================] - 125s 4s/step - loss: 0.9582 - accuracy: 0.6915 - val_loss: 1.6809 - val_accuracy: 0.3333\n",
            "Epoch 3/50\n",
            "29/29 [==============================] - 120s 4s/step - loss: 0.8078 - accuracy: 0.7227 - val_loss: 1.4855 - val_accuracy: 0.3333\n",
            "Epoch 4/50\n",
            "29/29 [==============================] - 120s 4s/step - loss: 0.8138 - accuracy: 0.7227 - val_loss: 1.3721 - val_accuracy: 0.3333\n",
            "Epoch 5/50\n",
            "29/29 [==============================] - 120s 4s/step - loss: 0.7985 - accuracy: 0.7227 - val_loss: 1.5093 - val_accuracy: 0.3333\n",
            "Epoch 6/50\n",
            "29/29 [==============================] - 119s 4s/step - loss: 0.8096 - accuracy: 0.7227 - val_loss: 1.4720 - val_accuracy: 0.3333\n",
            "Epoch 7/50\n",
            "29/29 [==============================] - 125s 4s/step - loss: 0.8104 - accuracy: 0.7227 - val_loss: 1.4025 - val_accuracy: 0.3333\n",
            "Epoch 8/50\n",
            "29/29 [==============================] - 120s 4s/step - loss: 0.7935 - accuracy: 0.7227 - val_loss: 1.6788 - val_accuracy: 0.3333\n",
            "Epoch 9/50\n",
            "29/29 [==============================] - 120s 4s/step - loss: 0.8109 - accuracy: 0.7227 - val_loss: 1.2774 - val_accuracy: 0.3333\n",
            "Epoch 10/50\n",
            "29/29 [==============================] - 120s 4s/step - loss: 0.7999 - accuracy: 0.7227 - val_loss: 1.4514 - val_accuracy: 0.3333\n",
            "Epoch 11/50\n",
            "29/29 [==============================] - 120s 4s/step - loss: 0.8142 - accuracy: 0.7227 - val_loss: 2.4019 - val_accuracy: 0.3333\n",
            "Epoch 12/50\n",
            "29/29 [==============================] - 128s 4s/step - loss: 0.8565 - accuracy: 0.7227 - val_loss: 1.4077 - val_accuracy: 0.3333\n",
            "Epoch 13/50\n",
            "29/29 [==============================] - 120s 4s/step - loss: 0.8116 - accuracy: 0.7227 - val_loss: 1.4170 - val_accuracy: 0.3333\n",
            "Epoch 14/50\n",
            "29/29 [==============================] - 120s 4s/step - loss: 0.8185 - accuracy: 0.7227 - val_loss: 1.4003 - val_accuracy: 0.3333\n",
            "Epoch 15/50\n",
            "29/29 [==============================] - 121s 4s/step - loss: 0.8245 - accuracy: 0.7227 - val_loss: 1.5038 - val_accuracy: 0.3333\n",
            "Epoch 16/50\n",
            "29/29 [==============================] - 128s 4s/step - loss: 0.8351 - accuracy: 0.7227 - val_loss: 1.5660 - val_accuracy: 0.3333\n",
            "Epoch 17/50\n",
            "29/29 [==============================] - 121s 4s/step - loss: 0.8377 - accuracy: 0.7227 - val_loss: 1.2428 - val_accuracy: 0.3333\n",
            "Epoch 18/50\n",
            "29/29 [==============================] - 121s 4s/step - loss: 0.8242 - accuracy: 0.7227 - val_loss: 1.2708 - val_accuracy: 0.3333\n",
            "Epoch 19/50\n",
            "29/29 [==============================] - 121s 4s/step - loss: 0.8221 - accuracy: 0.7227 - val_loss: 1.4260 - val_accuracy: 0.3333\n",
            "Epoch 20/50\n",
            "29/29 [==============================] - 121s 4s/step - loss: 0.8175 - accuracy: 0.7227 - val_loss: 1.4838 - val_accuracy: 0.3333\n",
            "Epoch 21/50\n",
            "29/29 [==============================] - 121s 4s/step - loss: 0.8226 - accuracy: 0.7227 - val_loss: 1.7480 - val_accuracy: 0.3333\n",
            "Epoch 22/50\n",
            "29/29 [==============================] - 120s 4s/step - loss: 0.8267 - accuracy: 0.7227 - val_loss: 1.6549 - val_accuracy: 0.3333\n",
            "Epoch 23/50\n",
            "29/29 [==============================] - 120s 4s/step - loss: 0.8161 - accuracy: 0.7227 - val_loss: 1.3163 - val_accuracy: 0.3333\n",
            "Epoch 24/50\n",
            "29/29 [==============================] - 121s 4s/step - loss: 0.8010 - accuracy: 0.7227 - val_loss: 1.8255 - val_accuracy: 0.3333\n",
            "Epoch 25/50\n",
            "29/29 [==============================] - 121s 4s/step - loss: 0.8291 - accuracy: 0.7227 - val_loss: 1.9403 - val_accuracy: 0.3333\n",
            "Epoch 26/50\n",
            "29/29 [==============================] - 120s 4s/step - loss: 0.8154 - accuracy: 0.7227 - val_loss: 1.5257 - val_accuracy: 0.3333\n",
            "Epoch 27/50\n",
            "29/29 [==============================] - 121s 4s/step - loss: 0.8526 - accuracy: 0.7227 - val_loss: 1.4208 - val_accuracy: 0.3333\n",
            "Epoch 28/50\n",
            "29/29 [==============================] - 121s 4s/step - loss: 0.8239 - accuracy: 0.7227 - val_loss: 1.4859 - val_accuracy: 0.3333\n",
            "Epoch 29/50\n",
            "29/29 [==============================] - 121s 4s/step - loss: 0.8092 - accuracy: 0.7227 - val_loss: 1.5558 - val_accuracy: 0.3333\n",
            "Epoch 30/50\n",
            "29/29 [==============================] - 121s 4s/step - loss: 0.7961 - accuracy: 0.7227 - val_loss: 1.6691 - val_accuracy: 0.3333\n",
            "Epoch 31/50\n",
            "29/29 [==============================] - 121s 4s/step - loss: 0.8757 - accuracy: 0.7227 - val_loss: 1.8198 - val_accuracy: 0.3333\n",
            "Epoch 32/50\n",
            "29/29 [==============================] - 121s 4s/step - loss: 0.8239 - accuracy: 0.7227 - val_loss: 1.2609 - val_accuracy: 0.3333\n",
            "Epoch 33/50\n",
            "29/29 [==============================] - 121s 4s/step - loss: 0.8340 - accuracy: 0.7227 - val_loss: 1.4140 - val_accuracy: 0.3333\n",
            "Epoch 34/50\n",
            "29/29 [==============================] - 121s 4s/step - loss: 0.8146 - accuracy: 0.7227 - val_loss: 1.3718 - val_accuracy: 0.3333\n",
            "Epoch 35/50\n",
            "29/29 [==============================] - 120s 4s/step - loss: 0.8233 - accuracy: 0.7227 - val_loss: 1.5225 - val_accuracy: 0.3333\n",
            "Epoch 36/50\n",
            "29/29 [==============================] - 121s 4s/step - loss: 0.8419 - accuracy: 0.7227 - val_loss: 1.6155 - val_accuracy: 0.3333\n",
            "Epoch 37/50\n",
            "29/29 [==============================] - 121s 4s/step - loss: 0.8148 - accuracy: 0.7227 - val_loss: 1.3627 - val_accuracy: 0.3333\n",
            "Epoch 38/50\n",
            "29/29 [==============================] - 120s 4s/step - loss: 0.8180 - accuracy: 0.7227 - val_loss: 1.9235 - val_accuracy: 0.3333\n",
            "Epoch 39/50\n",
            "29/29 [==============================] - 121s 4s/step - loss: 0.8658 - accuracy: 0.7227 - val_loss: 1.5691 - val_accuracy: 0.3333\n",
            "Epoch 40/50\n",
            "29/29 [==============================] - 120s 4s/step - loss: 0.8363 - accuracy: 0.7227 - val_loss: 1.6946 - val_accuracy: 0.3333\n",
            "Epoch 41/50\n",
            "29/29 [==============================] - 120s 4s/step - loss: 0.8180 - accuracy: 0.7227 - val_loss: 1.2665 - val_accuracy: 0.3333\n",
            "Epoch 42/50\n",
            "29/29 [==============================] - 121s 4s/step - loss: 0.8064 - accuracy: 0.7227 - val_loss: 1.4621 - val_accuracy: 0.3333\n",
            "Epoch 43/50\n",
            "29/29 [==============================] - 121s 4s/step - loss: 0.8091 - accuracy: 0.7227 - val_loss: 1.2663 - val_accuracy: 0.3333\n",
            "Epoch 44/50\n",
            "29/29 [==============================] - 121s 4s/step - loss: 0.8154 - accuracy: 0.7227 - val_loss: 1.5144 - val_accuracy: 0.3333\n",
            "Epoch 45/50\n",
            "29/29 [==============================] - 121s 4s/step - loss: 0.8245 - accuracy: 0.7227 - val_loss: 1.4975 - val_accuracy: 0.3333\n",
            "Epoch 46/50\n",
            "29/29 [==============================] - 121s 4s/step - loss: 0.7961 - accuracy: 0.7227 - val_loss: 1.3306 - val_accuracy: 0.3333\n",
            "Epoch 47/50\n",
            "29/29 [==============================] - 121s 4s/step - loss: 0.8031 - accuracy: 0.7227 - val_loss: 1.2340 - val_accuracy: 0.3333\n",
            "Epoch 48/50\n",
            "29/29 [==============================] - 127s 4s/step - loss: 0.8024 - accuracy: 0.7227 - val_loss: 1.3835 - val_accuracy: 0.3333\n",
            "Epoch 49/50\n",
            "29/29 [==============================] - 121s 4s/step - loss: 0.8040 - accuracy: 0.7227 - val_loss: 1.4929 - val_accuracy: 0.3333\n",
            "Epoch 50/50\n",
            "29/29 [==============================] - 121s 4s/step - loss: 0.8161 - accuracy: 0.7227 - val_loss: 1.3739 - val_accuracy: 0.3333\n"
          ],
          "name": "stdout"
        }
      ]
    },
    {
      "cell_type": "code",
      "metadata": {
        "colab": {
          "base_uri": "https://localhost:8080/"
        },
        "id": "N5XeSGVzw03t",
        "outputId": "8b492bf3-fc57-4811-d4d4-80a5b55e578b"
      },
      "source": [
        "val_loss_2 = history.history['val_loss']\n",
        "val_acc_2 = history.history['val_accuracy']\n",
        "\n",
        "accuracy_2 = history.history['accuracy']\n",
        "loss_2 = history.history['loss']\n",
        "\n",
        "print(val_acc_2[-1])\n",
        "print(accuracy_2[-1])"
      ],
      "execution_count": 14,
      "outputs": [
        {
          "output_type": "stream",
          "text": [
            "0.3333333432674408\n",
            "0.7227036356925964\n"
          ],
          "name": "stdout"
        }
      ]
    },
    {
      "cell_type": "code",
      "metadata": {
        "colab": {
          "base_uri": "https://localhost:8080/",
          "height": 562
        },
        "id": "19dHtRktw7Ld",
        "outputId": "fe521ae8-6f38-486d-86e9-a2494bfd6b6e"
      },
      "source": [
        "acc = accuracy_2\n",
        "val_accuracy = val_acc_2\n",
        "loss = loss_2\n",
        "val_loss = val_loss_2\n",
        "epochs = range(len(acc))\n",
        "\n",
        "plt.plot(epochs, acc, 'r', label='Training accuracy')\n",
        "plt.plot(epochs, val_accuracy, 'b', label='Validation accuracy')\n",
        "plt.title('Training and validation accuracy')\n",
        "\n",
        "plt.figure()\n",
        "\n",
        "plt.plot(epochs, loss, 'r', label='Training Loss')\n",
        "plt.plot(epochs, val_loss, 'b', label='Validation Loss')\n",
        "plt.title('Training and validation loss')\n",
        "plt.legend()"
      ],
      "execution_count": 15,
      "outputs": [
        {
          "output_type": "execute_result",
          "data": {
            "text/plain": [
              "<matplotlib.legend.Legend at 0x7fc270375210>"
            ]
          },
          "metadata": {
            "tags": []
          },
          "execution_count": 15
        },
        {
          "output_type": "display_data",
          "data": {
            "image/png": "[encoded data removed]",
            "text/plain": [
              "<Figure size 432x288 with 1 Axes>"
            ]
          },
          "metadata": {
            "tags": [],
            "needs_background": "light"
          }
        },
        {
          "output_type": "display_data",
          "data": {
            "image/png": "[encoded data removed]",
            "text/plain": [
              "<Figure size 432x288 with 1 Axes>"
            ]
          },
          "metadata": {
            "tags": [],
            "needs_background": "light"
          }
        }
      ]
    }
  ]
}